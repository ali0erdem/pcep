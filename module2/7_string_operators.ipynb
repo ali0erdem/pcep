{
 "cells": [
  {
   "attachments": {},
   "cell_type": "markdown",
   "metadata": {},
   "source": [
    "### String operators ###\n",
    "\n",
    "- It's time to return to these two arithmetic operators: `+ and *`\n",
    "- They are able to do something more than just **add** and **multiply**."
   ]
  },
  {
   "attachments": {},
   "cell_type": "markdown",
   "metadata": {},
   "source": [
    "#### Concatenation ####\n",
    "\n",
    "- `string + string`\n",
    "- It simply concatenates (glues) two strings into one.\n",
    "- you must ensure that `both its arguments are strings`."
   ]
  },
  {
   "cell_type": "code",
   "execution_count": 2,
   "metadata": {},
   "outputs": [
    {
     "name": "stdout",
     "output_type": "stream",
     "text": [
      "Thank you.\n",
      "\n",
      "Your name is Ali Erdem.\n"
     ]
    }
   ],
   "source": [
    "fnam = input(\"May I have your first name, please? \") # Entered Ali\n",
    "lnam = input(\"May I have your last name, please? \") # Entered Erdem\n",
    "print(\"Thank you.\")\n",
    "print(\"\\nYour name is \" + fnam + \" \" + lnam + \".\")"
   ]
  },
  {
   "attachments": {},
   "cell_type": "markdown",
   "metadata": {},
   "source": [
    "#### Replication ####\n",
    "\n",
    "- The * (asterisk) sign, when applied to a string and number becomes a `replication operator`.\n",
    "- string * number or visa versa.\n",
    "- A number `less than or equal to zero` produces an `empty` string."
   ]
  },
  {
   "cell_type": "code",
   "execution_count": 7,
   "metadata": {},
   "outputs": [
    {
     "data": {
      "text/plain": [
       "'AliAliAli'"
      ]
     },
     "execution_count": 7,
     "metadata": {},
     "output_type": "execute_result"
    }
   ],
   "source": [
    "\"Ali\" * 3"
   ]
  },
  {
   "cell_type": "code",
   "execution_count": 8,
   "metadata": {},
   "outputs": [
    {
     "data": {
      "text/plain": [
       "''"
      ]
     },
     "execution_count": 8,
     "metadata": {},
     "output_type": "execute_result"
    }
   ],
   "source": [
    "\"Empty\" * -3"
   ]
  },
  {
   "cell_type": "code",
   "execution_count": 6,
   "metadata": {},
   "outputs": [
    {
     "name": "stdout",
     "output_type": "stream",
     "text": [
      "+----------+\n",
      "|          |\n",
      "|          |\n",
      "|          |\n",
      "|          |\n",
      "|          |\n",
      "+----------+\n"
     ]
    }
   ],
   "source": [
    "print(\"+\" + 10 * \"-\" + \"+\")\n",
    "print((\"|\" + \" \" * 10 + \"|\\n\") * 5, end=\"\")\n",
    "print(\"+\" + 10 * \"-\" + \"+\")"
   ]
  },
  {
   "attachments": {},
   "cell_type": "markdown",
   "metadata": {},
   "source": [
    "#### Type conversion: str() ####\n",
    "\n",
    "- You can convert a number into a string.\n",
    "- This is way easier and safer - this operation is always possible.\n",
    "- `str(number)`"
   ]
  },
  {
   "cell_type": "code",
   "execution_count": 10,
   "metadata": {},
   "outputs": [
    {
     "name": "stdout",
     "output_type": "stream",
     "text": [
      "Hypotenuse length is 13.0\n"
     ]
    }
   ],
   "source": [
    "leg_a = float(input(\"Input first leg length: \")) # 5 is entered\n",
    "leg_b = float(input(\"Input second leg length: \")) # 12 is entered\n",
    "print(\"Hypotenuse length is \" + str((leg_a**2 + leg_b**2) ** .5))"
   ]
  },
  {
   "cell_type": "code",
   "execution_count": 11,
   "metadata": {},
   "outputs": [
    {
     "name": "stdout",
     "output_type": "stream",
     "text": [
      "Addition of two numbers: 6.0\n",
      "Subtraction of two numbers: 2.0\n",
      "Multiplication of two numbers: 8.0\n",
      "Division of two numbers: 2.0\n",
      "\n",
      "That's all, folks!\n"
     ]
    }
   ],
   "source": [
    "# 2.6.1.9 LAB\n",
    "a = float(input(\"Please enter a number for variable a: \")) # 4\n",
    "b = float(input(\"Please enter a number for variable b: \")) # 2\n",
    "\n",
    "print(\"Addition of two numbers: \" + str(a + b) )\n",
    "print(\"Subtraction of two numbers: \" + str(a - b) )\n",
    "print(\"Multiplication of two numbers: \" + str(a * b) )\n",
    "print(\"Division of two numbers: \" + str(a / b) )\n",
    "\n",
    "print(\"\\nThat's all, folks!\")\n"
   ]
  },
  {
   "cell_type": "code",
   "execution_count": 12,
   "metadata": {},
   "outputs": [
    {
     "name": "stdout",
     "output_type": "stream",
     "text": [
      "y = 0.6000000000000001\n"
     ]
    }
   ],
   "source": [
    "# 2.6.1.10 LAB\n",
    "x = float(input(\"Enter value for x: \")) # 1\n",
    "\n",
    "y = (1 / (x + 1 / (x + 1 / (x + 1/x))))\n",
    "\n",
    "print(\"y =\", y)"
   ]
  },
  {
   "cell_type": "code",
   "execution_count": 17,
   "metadata": {},
   "outputs": [
    {
     "name": "stdout",
     "output_type": "stream",
     "text": [
      "10 : 40\n"
     ]
    }
   ],
   "source": [
    "# 2.6.1.11 LAB\n",
    "hour = int(input(\"Starting time (hours): \")) # 23\n",
    "mins = int(input(\"Starting time (minutes): \")) # 58\n",
    "dura = int(input(\"Event duration (minutes): \")) # 642\n",
    "\n",
    "extra_hours = (mins + dura) // 60\n",
    "new_mins = (mins + dura) % 60\n",
    "new_hours = (hour + extra_hours) % 24\n",
    "\n",
    "print(new_hours, \":\", new_mins )"
   ]
  }
 ],
 "metadata": {
  "kernelspec": {
   "display_name": "Python 3.9.9 ('jupyterlab')",
   "language": "python",
   "name": "python3"
  },
  "language_info": {
   "codemirror_mode": {
    "name": "ipython",
    "version": 3
   },
   "file_extension": ".py",
   "mimetype": "text/x-python",
   "name": "python",
   "nbconvert_exporter": "python",
   "pygments_lexer": "ipython3",
   "version": "3.9.9"
  },
  "orig_nbformat": 4,
  "vscode": {
   "interpreter": {
    "hash": "797bcc168a88d5a18efbe272096902bc785ce456adf93c9147e596368a5f5e63"
   }
  }
 },
 "nbformat": 4,
 "nbformat_minor": 2
}
