{
 "cells": [
  {
   "cell_type": "code",
   "execution_count": 1,
   "metadata": {},
   "outputs": [
    {
     "name": "stdout",
     "output_type": "stream",
     "text": [
      "Hello World!\n"
     ]
    }
   ],
   "source": [
    "# The word print that you can see here is a function name.\n",
    "print(\"Hello World!\")"
   ]
  },
  {
   "cell_type": "markdown",
   "metadata": {},
   "source": [
    "A function (in this context) is a separate part of the computer code able to:\n",
    "\n",
    "- **`cause some effect`** (e.g., send text to the terminal, create a file, draw an image, play a sound, etc.); this is something completely unheard of in the world of mathematics;\n",
    "- **`evaluate a value`** (e.g., the square root of a value or the length of a given text) and **return it as the function's result**; this is what makes Python functions the relatives of mathematical concepts.\n",
    "Moreover, many of Python functions can do the above two things together."
   ]
  },
  {
   "cell_type": "markdown",
   "metadata": {},
   "source": [
    "#### Where do the functions come from? ####\n",
    "- They may come from Python itself; the print function is one of this kind; such a function is an added value received together with Python and its environment (it is **`built-in`**)\n",
    "- they may come from one or more of Python's add-ons named **`modules`** Some of the modules come with Python, others may require separate installation\n",
    "- you can write them yourself"
   ]
  },
  {
   "cell_type": "markdown",
   "metadata": {},
   "source": [
    "There's also a third, very important, function component - **`the argument(s).`**\n",
    "Python functions strongly demand the presence of **`a pair of parentheses`** - opening and closing ones, respectively.\n",
    "If you want to deliver one or more arguments to a function, you place them inside the parentheses."
   ]
  },
  {
   "cell_type": "code",
   "execution_count": 2,
   "metadata": {},
   "outputs": [
    {
     "name": "stdout",
     "output_type": "stream",
     "text": [
      "Hello, Python!\n"
     ]
    }
   ],
   "source": [
    "print(\"Hello, Python!\")"
   ]
  },
  {
   "cell_type": "markdown",
   "metadata": {},
   "source": [
    "Python's syntax is quite specific in this area. Unlike most programming languages, Python requires that **`there cannot be more than one instruction in a line.`**"
   ]
  },
  {
   "cell_type": "code",
   "execution_count": 3,
   "metadata": {},
   "outputs": [
    {
     "name": "stdout",
     "output_type": "stream",
     "text": [
      "The itsy bitsy spider climbed up the waterspout.\n",
      "Down came the rain and washed the spider out.\n"
     ]
    }
   ],
   "source": [
    "print(\"The itsy bitsy spider climbed up the waterspout.\")\n",
    "print(\"Down came the rain and washed the spider out.\")"
   ]
  },
  {
   "cell_type": "code",
   "execution_count": 5,
   "metadata": {},
   "outputs": [
    {
     "name": "stdout",
     "output_type": "stream",
     "text": [
      "The itsy bitsy spider climbed up the waterspout.\n",
      "\n",
      "Down came the rain and washed the spider out.\n"
     ]
    }
   ],
   "source": [
    "print(\"The itsy bitsy spider climbed up the waterspout.\")\n",
    "print() # we've added one empty print() function invocation\n",
    "print(\"Down came the rain and washed the spider out.\")"
   ]
  },
  {
   "cell_type": "markdown",
   "metadata": {},
   "source": [
    "- The backslash **(\\)** has a very special meaning when used inside strings - this is called the **`escape character.`**\n",
    "- The letter **n** placed after the backslash comes from the word **newline**"
   ]
  },
  {
   "cell_type": "code",
   "execution_count": 6,
   "metadata": {},
   "outputs": [
    {
     "name": "stdout",
     "output_type": "stream",
     "text": [
      "The itsy bitsy spider\n",
      "climbed up the waterspout.\n",
      "\n",
      "Down came the rain\n",
      "and washed the spider out.\n"
     ]
    }
   ],
   "source": [
    "print(\"The itsy bitsy spider\\nclimbed up the waterspout.\")\n",
    "print()\n",
    "print(\"Down came the rain\\nand washed the spider out.\")\n"
   ]
  },
  {
   "cell_type": "code",
   "execution_count": 7,
   "metadata": {},
   "outputs": [
    {
     "ename": "SyntaxError",
     "evalue": "EOL while scanning string literal (553383442.py, line 2)",
     "output_type": "error",
     "traceback": [
      "\u001b[1;36m  Input \u001b[1;32mIn [7]\u001b[1;36m\u001b[0m\n\u001b[1;33m    print(\"\\\")\u001b[0m\n\u001b[1;37m              ^\u001b[0m\n\u001b[1;31mSyntaxError\u001b[0m\u001b[1;31m:\u001b[0m EOL while scanning string literal\n"
     ]
    }
   ],
   "source": [
    "# If you want to put just one backslash inside a string, don't forget its escaping nature - you have to double it\n",
    "print(\"\\\")"
   ]
  },
  {
   "cell_type": "code",
   "execution_count": 8,
   "metadata": {},
   "outputs": [
    {
     "name": "stdout",
     "output_type": "stream",
     "text": [
      "\\\n"
     ]
    }
   ],
   "source": [
    "print(\"\\\\\")"
   ]
  },
  {
   "cell_type": "code",
   "execution_count": 10,
   "metadata": {},
   "outputs": [
    {
     "name": "stdout",
     "output_type": "stream",
     "text": [
      "The itsy bitsy spider climbed up the waterspout.\n"
     ]
    }
   ],
   "source": [
    "# The arguments are separated by commas.\n",
    "# a print() function invoked with more than one argument outputs them all on one line;\n",
    "# the print() function puts a space between the outputted arguments on its own initiative.\n",
    "print(\"The itsy bitsy spider\" , \"climbed up\" , \"the waterspout.\")"
   ]
  },
  {
   "cell_type": "markdown",
   "metadata": {},
   "source": [
    "- The way in which we are passing the arguments into the print() function is the most common in Python, and is called the **`positional way`** (this name comes from the fact that the meaning of the argument is dictated by its position, e.g., the second argument will be outputted after the first, not the other way round).\n",
    "- The mechanism is called **`keyword arguments.`** The name stems from the fact that the meaning of these arguments is taken not from its location (position) but from the special word (keyword) used to identify them."
   ]
  },
  {
   "cell_type": "code",
   "execution_count": 13,
   "metadata": {},
   "outputs": [
    {
     "name": "stdout",
     "output_type": "stream",
     "text": [
      "My name is Python. Monty Python.\n"
     ]
    }
   ],
   "source": [
    "# any keyword arguments have to be put after the last positional argument (this is very important)\n",
    "# The default behavior reflects the situation where the end keyword argument is implicitly used in the following way: end=\"\\n\".\n",
    "print(\"My name is\", \"Python.\", end=\" \")\n",
    "print(\"Monty Python.\")"
   ]
  },
  {
   "cell_type": "code",
   "execution_count": 4,
   "metadata": {},
   "outputs": [
    {
     "name": "stdout",
     "output_type": "stream",
     "text": [
      "My name is \"Monty Python\"\n"
     ]
    }
   ],
   "source": [
    "print(\"My name is \\\"Monty Python\\\"\")"
   ]
  },
  {
   "cell_type": "code",
   "execution_count": 9,
   "metadata": {},
   "outputs": [
    {
     "name": "stdout",
     "output_type": "stream",
     "text": [
      "My-name-is-Monty-Python\n"
     ]
    }
   ],
   "source": [
    "print(\"My\",\"name\", \"is\", \"Monty\", \"Python\", sep=\"-\")"
   ]
  },
  {
   "cell_type": "code",
   "execution_count": 16,
   "metadata": {},
   "outputs": [
    {
     "name": "stdout",
     "output_type": "stream",
     "text": [
      "My_name_is*"
     ]
    }
   ],
   "source": [
    "print(\"My\", \"name\", \"is\", sep=\"_\", end=\"*\")"
   ]
  },
  {
   "cell_type": "code",
   "execution_count": 17,
   "metadata": {},
   "outputs": [
    {
     "name": "stdout",
     "output_type": "stream",
     "text": [
      "Monty*Python.*\n"
     ]
    }
   ],
   "source": [
    "print(\"Monty\", \"Python.\", sep=\"*\", end=\"*\\n\")"
   ]
  },
  {
   "cell_type": "code",
   "execution_count": 19,
   "metadata": {},
   "outputs": [
    {
     "name": "stdout",
     "output_type": "stream",
     "text": [
      "Programming***Essentials***in...Python\n"
     ]
    }
   ],
   "source": [
    "# 2.1.1.18 LAB\n",
    "print(\"Programming\",\"Essentials\",\"in\", sep=\"***\", end=\"...\")\n",
    "print(\"Python\")"
   ]
  },
  {
   "cell_type": "code",
   "execution_count": 20,
   "metadata": {},
   "outputs": [
    {
     "name": "stdout",
     "output_type": "stream",
     "text": [
      "     *\n",
      "   *   *\n",
      "  *     *\n",
      " *       *\n",
      "***     ***\n",
      "   *   *\n",
      "   *   *\n",
      "   *****\n",
      "    *         *     \n",
      "   * *       * *    \n",
      "  *   *     *   *   \n",
      " *     *   *     *  \n",
      "***   *** ***   *** \n",
      "  *   *     *   *   \n",
      "  *   *     *   *   \n",
      "  *****     *****   \n"
     ]
    }
   ],
   "source": [
    "# 2.1.1.19 LAB\n",
    "print(\"     *\\n   *   *\\n  *     *\\n *       *\\n***     ***\\n   *   *\\n   *   *\\n   *****\")\n",
    "print(\"    *     \" * 2)\n",
    "print(\"   * *    \" * 2)\n",
    "print(\"  *   *   \" * 2)\n",
    "print(\" *     *  \" * 2)\n",
    "print(\"***   *** \" * 2)\n",
    "print(\"  *   *   \" * 2)\n",
    "print(\"  *   *   \" * 2)\n",
    "print(\"  *****   \" * 2)"
   ]
  },
  {
   "cell_type": "code",
   "execution_count": null,
   "metadata": {},
   "outputs": [],
   "source": []
  }
 ],
 "metadata": {
  "kernelspec": {
   "display_name": "Python 3.9.9 ('jupyterlab')",
   "language": "python",
   "name": "python3"
  },
  "language_info": {
   "codemirror_mode": {
    "name": "ipython",
    "version": 3
   },
   "file_extension": ".py",
   "mimetype": "text/x-python",
   "name": "python",
   "nbconvert_exporter": "python",
   "pygments_lexer": "ipython3",
   "version": "3.9.9"
  },
  "orig_nbformat": 4,
  "vscode": {
   "interpreter": {
    "hash": "797bcc168a88d5a18efbe272096902bc785ce456adf93c9147e596368a5f5e63"
   }
  }
 },
 "nbformat": 4,
 "nbformat_minor": 2
}
