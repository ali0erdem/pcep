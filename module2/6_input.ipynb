{
 "cells": [
  {
   "attachments": {},
   "cell_type": "markdown",
   "metadata": {},
   "source": [
    "### The input() function ###\n",
    "\n",
    "- print() sends data to the console. The new function gets data from it.\n",
    "- the new function is to return a `very usable result`.\n",
    "- It is able to `read data entered by the user` and to `return the same data to the running program`.\n",
    "- The program prompts the user to input some data from the console\n",
    "- It is also possible to input data using `voice or image`\n",
    "\n"
   ]
  },
  {
   "cell_type": "code",
   "execution_count": 2,
   "metadata": {},
   "outputs": [
    {
     "name": "stdout",
     "output_type": "stream",
     "text": [
      "Tell me anything...\n",
      "Hmm... Hello ... Really?\n"
     ]
    }
   ],
   "source": [
    "print(\"Tell me anything...\")\n",
    "anything = input()\n",
    "print(\"Hmm...\", anything, \"... Really?\")"
   ]
  },
  {
   "attachments": {},
   "cell_type": "markdown",
   "metadata": {},
   "source": [
    "- it can prompt the user without any help from print().\n",
    "- the message will be displayed on the console before the user is given an opportunity to enter anything"
   ]
  },
  {
   "cell_type": "code",
   "execution_count": 3,
   "metadata": {},
   "outputs": [
    {
     "name": "stdout",
     "output_type": "stream",
     "text": [
      "Hmm... Que tal? ...Really?\n"
     ]
    }
   ],
   "source": [
    "anything = input(\"Tell me anything...\")\n",
    "print(\"Hmm...\", anything, \"...Really?\")"
   ]
  },
  {
   "attachments": {},
   "cell_type": "markdown",
   "metadata": {},
   "source": [
    "- Result of the input() function is a string.\n",
    "- You mustn't use it as an argument of any arithmetic operation. It will not an integer or a float.\n",
    "- You tried to apply the ** operator to 'str' (string) accompanied with 'float'.\n",
    "- It's prohibited!"
   ]
  },
  {
   "cell_type": "code",
   "execution_count": 5,
   "metadata": {},
   "outputs": [
    {
     "ename": "TypeError",
     "evalue": "unsupported operand type(s) for ** or pow(): 'str' and 'float'",
     "output_type": "error",
     "traceback": [
      "\u001b[1;31m---------------------------------------------------------------------------\u001b[0m",
      "\u001b[1;31mTypeError\u001b[0m                                 Traceback (most recent call last)",
      "\u001b[1;32mc:\\Users\\aerde\\Desktop\\Python Certifications\\PCEP\\module2\\6_input.ipynb Cell 6\u001b[0m in \u001b[0;36m<cell line: 2>\u001b[1;34m()\u001b[0m\n\u001b[0;32m      <a href='vscode-notebook-cell:/c%3A/Users/aerde/Desktop/Python%20Certifications/PCEP/module2/6_input.ipynb#X15sZmlsZQ%3D%3D?line=0'>1</a>\u001b[0m anything \u001b[39m=\u001b[39m \u001b[39minput\u001b[39m(\u001b[39m\"\u001b[39m\u001b[39mEnter a number: \u001b[39m\u001b[39m\"\u001b[39m) \u001b[39m# 3 is entered\u001b[39;00m\n\u001b[1;32m----> <a href='vscode-notebook-cell:/c%3A/Users/aerde/Desktop/Python%20Certifications/PCEP/module2/6_input.ipynb#X15sZmlsZQ%3D%3D?line=1'>2</a>\u001b[0m something \u001b[39m=\u001b[39m anything \u001b[39m*\u001b[39;49m\u001b[39m*\u001b[39;49m \u001b[39m2.0\u001b[39;49m\n\u001b[0;32m      <a href='vscode-notebook-cell:/c%3A/Users/aerde/Desktop/Python%20Certifications/PCEP/module2/6_input.ipynb#X15sZmlsZQ%3D%3D?line=2'>3</a>\u001b[0m \u001b[39mprint\u001b[39m(anything, \u001b[39m\"\u001b[39m\u001b[39mto the power of 2 is\u001b[39m\u001b[39m\"\u001b[39m, something)\n",
      "\u001b[1;31mTypeError\u001b[0m: unsupported operand type(s) for ** or pow(): 'str' and 'float'"
     ]
    }
   ],
   "source": [
    "anything = input(\"Enter a number: \") # 3 is entered\n",
    "something = anything ** 2.0\n",
    "print(anything, \"to the power of 2 is\", something)"
   ]
  },
  {
   "attachments": {},
   "cell_type": "markdown",
   "metadata": {},
   "source": [
    "### Type Casting ###\n",
    "\n",
    "- The `int()` function takes one argument (e.g., a string: int(string)) and tries to convert it into an integer\n",
    "- The `float()` function takes one argument (e.g., a string: float(string)) and tries to convert it into a float\n",
    "- If they fail, the whole program will fail too. "
   ]
  },
  {
   "cell_type": "code",
   "execution_count": 6,
   "metadata": {},
   "outputs": [
    {
     "name": "stdout",
     "output_type": "stream",
     "text": [
      "3.0 to the power of 2 is 9.0\n"
     ]
    }
   ],
   "source": [
    "anything = float(input(\"Enter a number: \")) # 3 is entered not 3.0\n",
    "something = anything ** 2.0\n",
    "print(anything, \"to the power of 2 is\", something)"
   ]
  },
  {
   "cell_type": "code",
   "execution_count": 8,
   "metadata": {},
   "outputs": [
    {
     "name": "stdout",
     "output_type": "stream",
     "text": [
      "Hypotenuse length is 13.0\n"
     ]
    }
   ],
   "source": [
    "leg_a = float(input(\"Input first leg length: \")) # 5\n",
    "leg_b = float(input(\"Input second leg length: \")) # 12\n",
    "hypo = (leg_a**2 + leg_b**2) ** .5\n",
    "print(\"Hypotenuse length is\", hypo)"
   ]
  }
 ],
 "metadata": {
  "kernelspec": {
   "display_name": "Python 3.9.9 ('jupyterlab')",
   "language": "python",
   "name": "python3"
  },
  "language_info": {
   "codemirror_mode": {
    "name": "ipython",
    "version": 3
   },
   "file_extension": ".py",
   "mimetype": "text/x-python",
   "name": "python",
   "nbconvert_exporter": "python",
   "pygments_lexer": "ipython3",
   "version": "3.9.9"
  },
  "orig_nbformat": 4,
  "vscode": {
   "interpreter": {
    "hash": "797bcc168a88d5a18efbe272096902bc785ce456adf93c9147e596368a5f5e63"
   }
  }
 },
 "nbformat": 4,
 "nbformat_minor": 2
}
