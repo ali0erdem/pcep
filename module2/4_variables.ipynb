{
 "cells": [
  {
   "attachments": {},
   "cell_type": "markdown",
   "metadata": {},
   "source": [
    "### Variables ###\n",
    "\n",
    "- How to store the results of these operations, in order to use them in other operations, and so on?\n",
    "- Python will help you with that. It offers special \"boxes\" (containers) for that purpose, and these boxes are called **`variables`**"
   ]
  },
  {
   "attachments": {},
   "cell_type": "markdown",
   "metadata": {},
   "source": [
    "What does every Python variable have?\n",
    "\n",
    "- a name;\n",
    "- a value (the content of the container)"
   ]
  },
  {
   "attachments": {},
   "cell_type": "markdown",
   "metadata": {},
   "source": [
    "If you want to give a name to a variable, you must follow some strict rules:\n",
    "- the name of the variable must be **`composed of upper-case or lower-case letters, digits, and the character _ (underscore)`**\n",
    "- the name of the variable must  **`begin with a letter`**;\n",
    "- upper- and lower-case letters are treated as different\n",
    "- the name of the variable must **`not be any of Python's reserved words`**"
   ]
  },
  {
   "attachments": {},
   "cell_type": "markdown",
   "metadata": {},
   "source": [
    "Here are some correct, but not always convenient variable names:\n",
    "- MyVariable, \n",
    "- i, \n",
    "- t34, \n",
    "- Exchange_Rate, \n",
    "- counter, \n",
    "- days_to_christmas, \n",
    "- TheNameIsSoLongThatYouWillMakeMistakesWithIt, \n",
    "- _"
   ]
  },
  {
   "attachments": {},
   "cell_type": "markdown",
   "metadata": {},
   "source": [
    "These variable names are also correct:\n",
    "\n",
    "- Adiós_Señora, \n",
    "- sûr_la_mer, \n",
    "- Einbahnstraße, \n",
    "- переменная"
   ]
  },
  {
   "attachments": {},
   "cell_type": "markdown",
   "metadata": {},
   "source": [
    "Some incorrect names:\n",
    "- 10t (does not begin with a letter)\n",
    "- Exchange Rate (contains a space)"
   ]
  },
  {
   "attachments": {},
   "cell_type": "markdown",
   "metadata": {},
   "source": [
    "#### PEP 8 Recomendations ####\n",
    "\n",
    "- variable names should be **`lowercase, with words separated by underscores`** to improve readability (e.g., var, my_variable)\n",
    "- function names follow the same convention as variable names (e.g., fun, my_function)"
   ]
  },
  {
   "attachments": {},
   "cell_type": "markdown",
   "metadata": {},
   "source": [
    "Reserved Keywords \n",
    "\n",
    "- You can't use the names in the list below as a variable name.\n",
    "- ['False', 'None', 'True', 'and', 'as', 'assert', 'break', 'class', 'continue', 'def', 'del', 'elif', 'else', 'except', 'finally', 'for', 'from', 'global', 'if', 'import', 'in', 'is', 'lambda', 'nonlocal', 'not', 'or', 'pass', 'raise', 'return', 'try', 'while', 'with', 'yield']"
   ]
  },
  {
   "attachments": {},
   "cell_type": "markdown",
   "metadata": {},
   "source": [
    "#### Creating Variables ####\n",
    "\n",
    "- A variable comes into existence as a result of assigning a value to it.\n",
    "- Unlike in other languages, you don't need to declare it in any special way."
   ]
  },
  {
   "cell_type": "code",
   "execution_count": 5,
   "metadata": {},
   "outputs": [
    {
     "name": "stdout",
     "output_type": "stream",
     "text": [
      "1\n"
     ]
    }
   ],
   "source": [
    "# The first of them creates a variable named var, and assigns a literal with an integer value equal to 1.\n",
    "# The second prints the value of the newly created variable to the console.\n",
    "\n",
    "var = 1\n",
    "print(var)"
   ]
  },
  {
   "cell_type": "code",
   "execution_count": 6,
   "metadata": {},
   "outputs": [
    {
     "ename": "NameError",
     "evalue": "name 'Var' is not defined",
     "output_type": "error",
     "traceback": [
      "\u001b[1;31m---------------------------------------------------------------------------\u001b[0m",
      "\u001b[1;31mNameError\u001b[0m                                 Traceback (most recent call last)",
      "\u001b[1;32mc:\\Users\\aerde\\Desktop\\Python Certifications\\PCEP\\module2\\4_variables.ipynb Cell 11\u001b[0m in \u001b[0;36m<cell line: 3>\u001b[1;34m()\u001b[0m\n\u001b[0;32m      <a href='vscode-notebook-cell:/c%3A/Users/aerde/Desktop/Python%20Certifications/PCEP/module2/4_variables.ipynb#X21sZmlsZQ%3D%3D?line=0'>1</a>\u001b[0m \u001b[39m# You're not allowed to use a variable which doesn't exist\u001b[39;00m\n\u001b[0;32m      <a href='vscode-notebook-cell:/c%3A/Users/aerde/Desktop/Python%20Certifications/PCEP/module2/4_variables.ipynb#X21sZmlsZQ%3D%3D?line=1'>2</a>\u001b[0m var \u001b[39m=\u001b[39m \u001b[39m1\u001b[39m\n\u001b[1;32m----> <a href='vscode-notebook-cell:/c%3A/Users/aerde/Desktop/Python%20Certifications/PCEP/module2/4_variables.ipynb#X21sZmlsZQ%3D%3D?line=2'>3</a>\u001b[0m \u001b[39mprint\u001b[39m(Var)\n",
      "\u001b[1;31mNameError\u001b[0m: name 'Var' is not defined"
     ]
    }
   ],
   "source": [
    "# You're not allowed to use a variable which doesn't exist\n",
    "var = 1\n",
    "print(Var) # with a capital letter"
   ]
  },
  {
   "cell_type": "code",
   "execution_count": 7,
   "metadata": {},
   "outputs": [
    {
     "name": "stdout",
     "output_type": "stream",
     "text": [
      "Python version: 3.8.5\n"
     ]
    }
   ],
   "source": [
    "var = \"3.8.5\"\n",
    "print(\"Python version: \" + var)"
   ]
  },
  {
   "attachments": {},
   "cell_type": "markdown",
   "metadata": {},
   "source": [
    "- The first line of the snippet \"assign 1 to var\"\n",
    "- The third line \"take the current value of the variable var, add 1 to it and store the result in the variable var\"."
   ]
  },
  {
   "cell_type": "code",
   "execution_count": 8,
   "metadata": {},
   "outputs": [
    {
     "name": "stdout",
     "output_type": "stream",
     "text": [
      "1\n",
      "2\n"
     ]
    }
   ],
   "source": [
    "# Assigning a new value to an already existing variable\n",
    "var = 1\n",
    "print(var)\n",
    "var = var + 1\n",
    "print(var)"
   ]
  },
  {
   "cell_type": "code",
   "execution_count": 9,
   "metadata": {},
   "outputs": [
    {
     "name": "stdout",
     "output_type": "stream",
     "text": [
      "500\n"
     ]
    }
   ],
   "source": [
    "var = 100\n",
    "var = 200 + 300 # completely changed the value of var\n",
    "print(var)"
   ]
  },
  {
   "cell_type": "code",
   "execution_count": 1,
   "metadata": {},
   "outputs": [
    {
     "name": "stdout",
     "output_type": "stream",
     "text": [
      "3 5 6\n",
      "14\n",
      "Total number of apples: 14\n"
     ]
    }
   ],
   "source": [
    "# 2.4.1.7 LAB\n",
    "john = 3\n",
    "mary = 5\n",
    "adam = 6\n",
    "\n",
    "print(john, mary, adam)\n",
    "\n",
    "total_apples = john + mary + adam\n",
    "\n",
    "print(total_apples)\n",
    "\n",
    "print(\"Total number of apples:\", total_apples)"
   ]
  },
  {
   "attachments": {},
   "cell_type": "markdown",
   "metadata": {},
   "source": [
    "### Shortcut operators ###\n",
    "\n",
    "If op is a two-argument operator (this is a very important condition) and the operator is used in the following context \n",
    "\n",
    "`variable = variable op expression`\n",
    "\n",
    "It can be simplified and shown as follows.\n",
    "\n",
    "`variable op= expression`"
   ]
  },
  {
   "cell_type": "code",
   "execution_count": 2,
   "metadata": {},
   "outputs": [
    {
     "name": "stdout",
     "output_type": "stream",
     "text": [
      "18\n"
     ]
    }
   ],
   "source": [
    "x = 9\n",
    "x *= 2 # x = x * 2\n",
    "print(x)"
   ]
  },
  {
   "cell_type": "code",
   "execution_count": 3,
   "metadata": {},
   "outputs": [
    {
     "name": "stdout",
     "output_type": "stream",
     "text": [
      "11\n"
     ]
    }
   ],
   "source": [
    "x = 9\n",
    "x += 2 # x = x + 2\n",
    "print(x)"
   ]
  },
  {
   "cell_type": "code",
   "execution_count": 4,
   "metadata": {},
   "outputs": [
    {
     "name": "stdout",
     "output_type": "stream",
     "text": [
      "81\n"
     ]
    }
   ],
   "source": [
    "x = 9\n",
    "x **= 2 # x = x ** 2\n",
    "print(x)"
   ]
  },
  {
   "cell_type": "code",
   "execution_count": 5,
   "metadata": {},
   "outputs": [
    {
     "name": "stdout",
     "output_type": "stream",
     "text": [
      "7.38 miles is 11.88 kilometers\n",
      "12.25 kilometers is 7.61 miles\n"
     ]
    }
   ],
   "source": [
    "# 2.4.1.9 LAB\n",
    "kilometers = 12.25\n",
    "miles = 7.38\n",
    "\n",
    "miles_to_kilometers = 7.38 * 1.61\n",
    "kilometers_to_miles = 12.25 / 1.61\n",
    "\n",
    "print(miles, \"miles is\", round(miles_to_kilometers, 2), \"kilometers\")\n",
    "print(kilometers, \"kilometers is\", round(kilometers_to_miles, 2), \"miles\")"
   ]
  },
  {
   "cell_type": "code",
   "execution_count": 6,
   "metadata": {},
   "outputs": [
    {
     "name": "stdout",
     "output_type": "stream",
     "text": [
      "y = 3.0\n"
     ]
    }
   ],
   "source": [
    "# 2.4.1.10 LAB\n",
    "x =  1\n",
    "x = float(x)\n",
    "y = 3 * x ** 3 - 2 * x ** 2 + 3 * x - 1 # Priority of operators works very well. Exponential >> Multiply >> Addition, Subtraction\n",
    "print(\"y =\", y)"
   ]
  }
 ],
 "metadata": {
  "kernelspec": {
   "display_name": "Python 3.9.9 ('jupyterlab')",
   "language": "python",
   "name": "python3"
  },
  "language_info": {
   "codemirror_mode": {
    "name": "ipython",
    "version": 3
   },
   "file_extension": ".py",
   "mimetype": "text/x-python",
   "name": "python",
   "nbconvert_exporter": "python",
   "pygments_lexer": "ipython3",
   "version": "3.9.9"
  },
  "orig_nbformat": 4,
  "vscode": {
   "interpreter": {
    "hash": "797bcc168a88d5a18efbe272096902bc785ce456adf93c9147e596368a5f5e63"
   }
  }
 },
 "nbformat": 4,
 "nbformat_minor": 2
}
