{
 "cells": [
  {
   "attachments": {},
   "cell_type": "markdown",
   "metadata": {},
   "source": [
    "### Leaving comments in code ###\n",
    "\n",
    "- You may want to put in a few words addressed not to Python but to humans\n",
    "- usually to explain to other readers of the code\n",
    "- how the tricks used in the code work, the meanings of the variables, who the author is and when the program was written"
   ]
  },
  {
   "attachments": {},
   "cell_type": "markdown",
   "metadata": {},
   "source": [
    "- a comment is a piece of text that begins with a `# (hash)` sign and extends to the end of the line."
   ]
  },
  {
   "cell_type": "code",
   "execution_count": 1,
   "metadata": {},
   "outputs": [
    {
     "name": "stdout",
     "output_type": "stream",
     "text": [
      "c = 5.0\n"
     ]
    }
   ],
   "source": [
    "# This program evaluates the hypotenuse c.\n",
    "# a and b are the lengths of the legs.\n",
    "a = 3.0\n",
    "b = 4.0\n",
    "c = (a ** 2 + b ** 2) ** 0.5  # We use ** instead of square root.\n",
    "print(\"c =\", c)"
   ]
  },
  {
   "attachments": {},
   "cell_type": "markdown",
   "metadata": {},
   "source": [
    "- Comments may be useful in another respect - you can use them to `mark a piece of code that currently isn't needed for whatever reason."
   ]
  },
  {
   "cell_type": "code",
   "execution_count": 2,
   "metadata": {},
   "outputs": [
    {
     "name": "stdout",
     "output_type": "stream",
     "text": [
      "3\n"
     ]
    }
   ],
   "source": [
    "# This is a test program.\n",
    "x = 1\n",
    "y = 2\n",
    "# y = y + x \n",
    "print(x + y)"
   ]
  },
  {
   "cell_type": "code",
   "execution_count": 3,
   "metadata": {},
   "outputs": [
    {
     "name": "stdout",
     "output_type": "stream",
     "text": [
      "Hours:  2\n",
      "Seconds in Hours:  7200\n",
      "Goodbye\n",
      "Number of seconds in three hours:  10800\n"
     ]
    }
   ],
   "source": [
    "# 2.5.1.2 LAB\n",
    "# this program computes the number of seconds in a given number of hours\n",
    "# this program has been written two days ago\n",
    "\n",
    "hours = 2 # number of hours\n",
    "seconds = 3600 # number of seconds in 1 hour\n",
    "\n",
    "print(\"Hours: \", hours) # printing the number of hours\n",
    "print(\"Seconds in Hours: \", hours * seconds) # printing the number of seconds in a given number of hours\n",
    "\n",
    "print(\"Goodbye\")\n",
    "\n",
    "# this is the end of the program that computes the number of seconds in 3 hour\n",
    "print(\"Number of seconds in three hours: \", 3 * seconds)\n"
   ]
  }
 ],
 "metadata": {
  "kernelspec": {
   "display_name": "Python 3.9.9 ('jupyterlab')",
   "language": "python",
   "name": "python3"
  },
  "language_info": {
   "codemirror_mode": {
    "name": "ipython",
    "version": 3
   },
   "file_extension": ".py",
   "mimetype": "text/x-python",
   "name": "python",
   "nbconvert_exporter": "python",
   "pygments_lexer": "ipython3",
   "version": "3.9.9"
  },
  "orig_nbformat": 4,
  "vscode": {
   "interpreter": {
    "hash": "797bcc168a88d5a18efbe272096902bc785ce456adf93c9147e596368a5f5e63"
   }
  }
 },
 "nbformat": 4,
 "nbformat_minor": 2
}
