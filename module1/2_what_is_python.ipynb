{
 "cells": [
  {
   "cell_type": "markdown",
   "metadata": {},
   "source": [
    "### What is Python? ###"
   ]
  },
  {
   "cell_type": "markdown",
   "metadata": {},
   "source": [
    "Python is a widely-used, **`interpreted`**, **`object-oriented`**, and **`high-level programming language`** with **`dynamic semantics`**."
   ]
  },
  {
   "cell_type": "markdown",
   "metadata": {},
   "source": [
    "The name of the Python programming language comes from an old BBC television comedy sketch series called **`Monty Python's Flying Circus`**."
   ]
  },
  {
   "cell_type": "markdown",
   "metadata": {},
   "source": [
    "There are not many languages whose authors are known by name. Python was created by **`Guido van Rossum.`**"
   ]
  },
  {
   "cell_type": "markdown",
   "metadata": {},
   "source": [
    "In 1999, Guido van Rossum defined his goals for Python:\n",
    "\n",
    "- an **`easy and intuitive`** language just as powerful as those of the major competitors;\n",
    "- **`open source`**, so anyone can contribute to its development;\n",
    "- code that is as **`understandable`** as plain English;\n",
    "- **`suitable for everyday tasks`**, allowing for short development times."
   ]
  },
  {
   "cell_type": "markdown",
   "metadata": {},
   "source": [
    "Python isn't a young language anymore. It is **`mature and trustworthy`**"
   ]
  },
  {
   "cell_type": "markdown",
   "metadata": {},
   "source": [
    "Python has two direct competitors, with comparable properties and predispositions. These are:\n",
    "\n",
    "- **`Perl`** – a scripting language originally authored by Larry Wall;\n",
    "- **`Ruby`** – a scripting language originally authored by Yukihiro Matsumoto."
   ]
  },
  {
   "cell_type": "markdown",
   "metadata": {},
   "source": [
    "There are two main kinds of Python, called Python 2 and **`Python 3`**."
   ]
  },
  {
   "cell_type": "markdown",
   "metadata": {},
   "source": [
    "**`Python 3 is the newer (or to be more precise, the current) version of the language. It's going through its own evolutionary path, creating its own standards and habits.`**"
   ]
  },
  {
   "cell_type": "markdown",
   "metadata": {},
   "source": [
    "Python 3 isn't just a better version of Python 2 – it is a completely different language"
   ]
  },
  {
   "cell_type": "markdown",
   "metadata": {},
   "source": [
    "Guido van Rossum used the **`\"C\" programming language`** to implement the very first version of his language and this decision is still in force. "
   ]
  },
  {
   "cell_type": "markdown",
   "metadata": {},
   "source": [
    "This is why the PSF implementation is often referred to as **`CPython.`** "
   ]
  },
  {
   "cell_type": "markdown",
   "metadata": {},
   "source": [
    "**`Cython`** is one of a possible number of solutions to the most painful of Python's traits – the lack of efficiency. "
   ]
  },
  {
   "cell_type": "markdown",
   "metadata": {},
   "source": [
    "This is what Cython is intended to do – to automatically translate the Python code (clean and clear, but not too swift) into \"C\" code"
   ]
  },
  {
   "cell_type": "markdown",
   "metadata": {},
   "source": [
    "Besides its many useful components, the Python 3 standard installation contains a very simple but extremely useful application named IDLE.\n",
    "\n",
    "**`IDLE`** is an acronym: Integrated Development and Learning Environment."
   ]
  }
 ],
 "metadata": {
  "kernelspec": {
   "display_name": "Python 3.9.9 ('jupyterlab')",
   "language": "python",
   "name": "python3"
  },
  "language_info": {
   "codemirror_mode": {
    "name": "ipython",
    "version": 3
   },
   "file_extension": ".py",
   "mimetype": "text/x-python",
   "name": "python",
   "nbconvert_exporter": "python",
   "pygments_lexer": "ipython3",
   "version": "3.9.9"
  },
  "orig_nbformat": 4,
  "vscode": {
   "interpreter": {
    "hash": "797bcc168a88d5a18efbe272096902bc785ce456adf93c9147e596368a5f5e63"
   }
  }
 },
 "nbformat": 4,
 "nbformat_minor": 2
}
