{
 "cells": [
  {
   "cell_type": "markdown",
   "metadata": {},
   "source": [
    "### Natural languages vs. programming languages ###\n",
    "A language is a means (and a tool) for expressing and recording thoughts. There are many languages all around us. Some of them require neither speaking nor writing, such as body language; it's possible to express your deepest feelings very precisely without saying a word.\n",
    "\n",
    "Another language you use each day is your mother tongue, which you use to manifest your will and to ponder reality. Computers have their own language, too, called **`machine language`**, which is very rudimentary."
   ]
  },
  {
   "cell_type": "markdown",
   "metadata": {},
   "source": [
    "The commands it recognizes are very simple. We can imagine that the computer responds to orders like \"take that number, divide by another and save the result\".\n",
    "A complete set of known commands is called an **`instruction list`**, sometimes abbreviated to **`IL`**. "
   ]
  },
  {
   "cell_type": "markdown",
   "metadata": {},
   "source": [
    "### What makes a language? ###"
   ]
  },
  {
   "cell_type": "markdown",
   "metadata": {},
   "source": [
    "- **`an alphabet`**: a set of symbols used to build words of a certain language (e.g., the Latin alphabet for English, the Cyrillic alphabet for Russian, Kanji for Japanese, and so on)\n",
    "- **`a lexis`**: (aka a dictionary) a set of words the language offers its users (e.g., the word \"computer\" comes from the English language dictionary, while \"cmoptrue\" doesn't; the word \"chat\" is present both in English and French dictionaries, but their meanings are different)\n",
    "- **`a syntax`**: a set of rules (formal or informal, written or felt intuitively) used to determine if a certain string of words forms a valid sentence (e.g., \"I am a python\" is a syntactically correct phrase, while \"I a python am\" isn't)\n",
    "- **`semantics`**: a set of rules determining if a certain phrase makes sense (e.g., \"I ate a doughnut\" makes sense, but \"A doughnut ate me\" doesn't)"
   ]
  },
  {
   "cell_type": "markdown",
   "metadata": {},
   "source": [
    "The IL is, in fact, **`the alphabet of a machine language`**. This is the simplest and most primary set of symbols we can use to give commands to a computer. It's the computer's mother tongue."
   ]
  },
  {
   "cell_type": "markdown",
   "metadata": {},
   "source": [
    "A program written in a high-level programming language is called a **`source code`** (in contrast to the machine code executed by computers). Similarly, the file containing the source code is called the **`source file`**."
   ]
  },
  {
   "cell_type": "markdown",
   "metadata": {},
   "source": [
    "There are two different ways of transforming a program from a high-level programming language into machine language:\n",
    "- **COMPILATION**\n",
    "\n",
    "    1. DEFINITION  \n",
    "        the source program is translated once (however, this act must be repeated each time you modify the source code) by getting a file (e.g., an .exe file if the code is intended to be run under MS Windows) containing the machine code; now you can distribute the file worldwide; the program that performs this translation is called a compiler or translator\n",
    "    2. ADVANTAGES\n",
    "        - the execution of the translated code is usually faster;\n",
    "        - only the user has to have the compiler - the end-user may use the code without it;\n",
    "        - the translated code is stored using machine language - as it is very hard to understand it, your own inventions and programming tricks are likely to remain your secret.\n",
    "    3. DISADVANTAGES\n",
    "        - the compilation itself may be a very time-consuming process - you may not be able to run your code immediately after making an amendment;\n",
    "        - you have to have as many compilers as hardware platforms you want your code to be run on.<br><br>\n",
    "- **INTERPRETATION**\n",
    "\n",
    "    1. DEFINITION  \n",
    "        you (or any user of the code) can translate the source program each time it has to be run; the program performing this kind of transformation is called an interpreter, as it interprets the code every time it is intended to be executed; it also means that you cannot just distribute the source code as-is, because the end-user also needs the interpreter to execute it.\n",
    "    2. ADVANTAGES\n",
    "        - you can run the code as soon as you complete it - there are no additional phases of translation;\n",
    "        - the code is stored using programming language, not machine language - this means that it can be run on computers using different machine languages; you don't compile your code separately for each different architecture.\n",
    "    3. DISADVANTAGES\n",
    "        - don't expect interpretation to ramp up your code to high speed - your code will share the computer's power with the interpreter, so it can't be really fast;\n",
    "        - both you and the end user have to have the interpreter to run your code."
   ]
  },
  {
   "cell_type": "markdown",
   "metadata": {},
   "source": [
    "Python is an **`interpreted language.`**"
   ]
  },
  {
   "cell_type": "markdown",
   "metadata": {},
   "source": [
    "If you want to program in Python, you'll need the **`Python interpreter.`**"
   ]
  },
  {
   "cell_type": "markdown",
   "metadata": {},
   "source": [
    "**`Python is free.`** This is one of its most important advantages."
   ]
  },
  {
   "cell_type": "markdown",
   "metadata": {},
   "source": [
    "Due to historical reasons, languages designed to be utilized in the interpretation manner are often called **`scripting languages`**, while the source programs encoded using them are called **`scripts.`**"
   ]
  }
 ],
 "metadata": {
  "language_info": {
   "name": "python"
  },
  "orig_nbformat": 4
 },
 "nbformat": 4,
 "nbformat_minor": 2
}
