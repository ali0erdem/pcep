{
 "cells": [
  {
   "cell_type": "code",
   "execution_count": 2,
   "metadata": {},
   "outputs": [
    {
     "name": "stdout",
     "output_type": "stream",
     "text": [
      "[2]\n"
     ]
    }
   ],
   "source": [
    "list_1 = [1]\n",
    "list_2 = list_1 # Assign list_1 to list_2\n",
    "list_1[0] = 2  # change the list_1's first element. No change in list_2\n",
    "print(list_2) # But it effects list_2 as well."
   ]
  },
  {
   "attachments": {},
   "cell_type": "markdown",
   "metadata": {},
   "source": [
    "#### The inner life of lists ####\n",
    "- the name of an **ordinary variable** is `the name of its content`;\n",
    "- the name of a **list** is `the name of a memory location where the list is stored`.\n",
    "- The assignment: `list_2 = list_1` **copies the name of the array**, `not its contents`.\n",
    "- In effect, the two names (list_1 and list_2) identify the `same location in the computer memory`.\n",
    "- Modifying one of them affects the other, and vice versa. "
   ]
  },
  {
   "attachments": {},
   "cell_type": "markdown",
   "metadata": {},
   "source": [
    "#### Powerful slices ####\n",
    "\n",
    "- How can we copy a list?\n",
    "- The solution is at your fingertips - its name is the `slice`.\n",
    "- It allows you to make a `brand new copy of a list, or parts of a list`."
   ]
  },
  {
   "cell_type": "code",
   "execution_count": 3,
   "metadata": {},
   "outputs": [
    {
     "name": "stdout",
     "output_type": "stream",
     "text": [
      "[1]\n"
     ]
    }
   ],
   "source": [
    "# Copying the entire list.\n",
    "list_1 = [1]\n",
    "list_2 = list_1[:]\n",
    "list_1[0] = 2\n",
    "print(list_2)"
   ]
  },
  {
   "attachments": {},
   "cell_type": "markdown",
   "metadata": {},
   "source": [
    "- One of the most general forms of the slice looks as follows\n",
    "- `my_list[start:end]`\n",
    "- It takes elements from the source list - the elements of the indices from start to end - 1."
   ]
  },
  {
   "cell_type": "markdown",
   "metadata": {},
   "source": []
  }
 ],
 "metadata": {
  "kernelspec": {
   "display_name": "jupyterlab",
   "language": "python",
   "name": "python3"
  },
  "language_info": {
   "codemirror_mode": {
    "name": "ipython",
    "version": 3
   },
   "file_extension": ".py",
   "mimetype": "text/x-python",
   "name": "python",
   "nbconvert_exporter": "python",
   "pygments_lexer": "ipython3",
   "version": "3.9.9"
  },
  "orig_nbformat": 4,
  "vscode": {
   "interpreter": {
    "hash": "797bcc168a88d5a18efbe272096902bc785ce456adf93c9147e596368a5f5e63"
   }
  }
 },
 "nbformat": 4,
 "nbformat_minor": 2
}
