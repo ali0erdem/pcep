{
 "cells": [
  {
   "attachments": {},
   "cell_type": "markdown",
   "metadata": {},
   "source": [
    "### Conditions and Conditional execution ###\n",
    "\n",
    "- You do certain things or you don't when a specific condition is met or not\n",
    "- For example, you go for a walk if the weather is good, or stay home if it's wet and cold.\n",
    "- Python offers a special feature for that. It's called a `conditional instruction`."
   ]
  },
  {
   "attachments": {},
   "cell_type": "markdown",
   "metadata": {},
   "source": [
    "### Conditional execution: the `if` statement ###\n",
    "\n",
    "- It's important to make all indentations `exactly the same` - Python 3 `does not allow` mixing spaces and tabs for indentation.\n",
    "- If the `true_or_not` expression represents the truth, `the indented statement(s) will be executed`.\n",
    "- If the `true_or_not` expression does not represent the truth, `the indented statement(s) will be omitted(ignored)`."
   ]
  },
  {
   "cell_type": "code",
   "execution_count": 1,
   "metadata": {},
   "outputs": [],
   "source": [
    "# if true_or_not:\n",
    "#     do_this_if_ture"
   ]
  },
  {
   "attachments": {},
   "cell_type": "markdown",
   "metadata": {},
   "source": [
    "### Conditional execution: the `if-else` statement ###\n",
    "\n",
    "- If the condition evaluates to `True`, the `perform_if_condition_true` statement is executed, and `the conditional statement comes to an end`.\n",
    "- If the condition evaluates to `False`, the `perform_if_condition_false` statement is executed, and `the conditional statement comes to an end`."
   ]
  },
  {
   "cell_type": "code",
   "execution_count": 2,
   "metadata": {},
   "outputs": [],
   "source": [
    "# if true_or_false_condition:\n",
    "#     perform_if_condition_true\n",
    "# else:\n",
    "#     perform_if_condition_false"
   ]
  },
  {
   "attachments": {},
   "cell_type": "markdown",
   "metadata": {},
   "source": [
    "### Conditional execution: the `Nested if-else` statement ###\n",
    "\n",
    "- consider the case where the instruction placed after the if is another if"
   ]
  },
  {
   "cell_type": "code",
   "execution_count": 3,
   "metadata": {},
   "outputs": [],
   "source": [
    "# if the_weather_is_good:\n",
    "#     if nice_restaurant_is_found:\n",
    "#         have_lunch()\n",
    "#     else:\n",
    "#         eat_a_sandwich()\n",
    "# else:\n",
    "#     if tickets_are_available:\n",
    "#         go_to_the_theater()\n",
    "#     else:\n",
    "#         go_shopping()\n"
   ]
  },
  {
   "attachments": {},
   "cell_type": "markdown",
   "metadata": {},
   "source": [
    "### Conditional execution: the `elif` statement ###\n",
    "\n",
    "- As you probably suspect, it's a shorter form of else if.\n",
    "- `elif` is used to check `more than just one condition`, and to `stop` when the first statement which is true is found."
   ]
  },
  {
   "cell_type": "code",
   "execution_count": 5,
   "metadata": {},
   "outputs": [],
   "source": [
    "# if the_weather_is_good:\n",
    "#     go_for_a_walk()\n",
    "# elif tickets_are_available:\n",
    "#     go_to_the_theater()\n",
    "# elif table_is_available:\n",
    "#     go_for_lunch()\n",
    "# else:\n",
    "#     play_chess_at_home()"
   ]
  },
  {
   "attachments": {},
   "cell_type": "markdown",
   "metadata": {},
   "source": [
    "- you mustn't use `else` without a preceding `if`\n",
    "- `else` is always the `last branch` of the cascade\n",
    "- `else` is an `optional` part of the cascade"
   ]
  },
  {
   "attachments": {},
   "cell_type": "markdown",
   "metadata": {},
   "source": [
    "#### **how to identify the larger of two numbers** ####"
   ]
  },
  {
   "cell_type": "code",
   "execution_count": 7,
   "metadata": {},
   "outputs": [
    {
     "name": "stdout",
     "output_type": "stream",
     "text": [
      "The larger number is: 20\n"
     ]
    }
   ],
   "source": [
    "# Read two numbers\n",
    "number1 = int(input(\"Enter the first number: \")) # 10\n",
    "number2 = int(input(\"Enter the second number: \")) # 20\n",
    "\n",
    "# Choose the larger number\n",
    "if number1 > number2:\n",
    "    larger_number = number1\n",
    "else:\n",
    "    larger_number = number2\n",
    "\n",
    "# Print the result\n",
    "print(\"The larger number is:\", larger_number)"
   ]
  },
  {
   "cell_type": "code",
   "execution_count": 10,
   "metadata": {},
   "outputs": [
    {
     "name": "stdout",
     "output_type": "stream",
     "text": [
      "Spathiphyllum! Not cactus!\n"
     ]
    }
   ],
   "source": [
    "# 3.1.1.10 LAB\n",
    "plant = \"Spathiphyllum\"\n",
    "user_input = input(\"Please enter the plant name: \")\n",
    "\n",
    "if user_input == plant:\n",
    "    print(\"Yes - Spathiphyllum is the best plant ever!\")\n",
    "elif user_input == plant.lower():\n",
    "    print(\"No, I want a big Spathiphyllum!\")\n",
    "else:\n",
    "    print(f\"Spathiphyllum! Not \" + user_input + \"!\")"
   ]
  },
  {
   "cell_type": "code",
   "execution_count": 12,
   "metadata": {},
   "outputs": [
    {
     "name": "stdout",
     "output_type": "stream",
     "text": [
      "The tax is: 19470.0 thalers\n"
     ]
    }
   ],
   "source": [
    "# 3.1.1.11 LAB\n",
    "income = float(input(\"Enter the annual income: \"))\n",
    "\n",
    "if income <= 85528:\n",
    "    tax = income * 0.18 - 556.02\n",
    "else:\n",
    "    tax = 14839.02 + (income - 85528) * 0.32\n",
    "\n",
    "tax = round(tax, 0)\n",
    "print(\"The tax is:\", tax, \"thalers\")"
   ]
  },
  {
   "cell_type": "code",
   "execution_count": 16,
   "metadata": {},
   "outputs": [
    {
     "name": "stdout",
     "output_type": "stream",
     "text": [
      "1071 Not within the Gregorian calendar period\n"
     ]
    }
   ],
   "source": [
    "# 3.1.1.12 LAB\n",
    "year = int(input(\"Enter a year: \")) \n",
    "\n",
    "\n",
    "if year < 1582:\n",
    "    print(year, \"Not within the Gregorian calendar period\")\n",
    "else:\n",
    "    if year % 4 != 0:\n",
    "        print(year, \"Common year\")\n",
    "    elif year % 100 != 0:\n",
    "        print(year, \"Leap year\")\n",
    "    elif year % 400 != 0:\n",
    "        print(year, \"Common year\")\n",
    "    else:\n",
    "        print(year, \"Leap year\")"
   ]
  }
 ],
 "metadata": {
  "kernelspec": {
   "display_name": "Python 3.9.9 ('jupyterlab')",
   "language": "python",
   "name": "python3"
  },
  "language_info": {
   "codemirror_mode": {
    "name": "ipython",
    "version": 3
   },
   "file_extension": ".py",
   "mimetype": "text/x-python",
   "name": "python",
   "nbconvert_exporter": "python",
   "pygments_lexer": "ipython3",
   "version": "3.9.9"
  },
  "orig_nbformat": 4,
  "vscode": {
   "interpreter": {
    "hash": "797bcc168a88d5a18efbe272096902bc785ce456adf93c9147e596368a5f5e63"
   }
  }
 },
 "nbformat": 4,
 "nbformat_minor": 2
}
