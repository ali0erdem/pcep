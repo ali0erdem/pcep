{
 "cells": [
  {
   "attachments": {},
   "cell_type": "markdown",
   "metadata": {},
   "source": [
    "### AND Conjuction ###\n",
    "- It's a binary operator with a priority that is lower than the one expressed by the comparison operators.\n",
    "\n",
    "`truth table`\n",
    "\n",
    "|Argument A|\tArgument B|\tA and B|\n",
    "|----------|--------------|--------|\n",
    "|False|\tFalse|\tFalse|\n",
    "|False|\tTrue|\tFalse|\n",
    "|True|\tFalse|\tFalse|\n",
    "|True|\tTrue|\tTrue|"
   ]
  },
  {
   "attachments": {},
   "cell_type": "markdown",
   "metadata": {},
   "source": [
    "### OR Disjunction  ###\n",
    "- It's a binary operator with a **lower priority than `and`** (just like + compared to *)\n",
    "\n",
    "`truth table`\n",
    "\n",
    "|Argument A|\tArgument B|\tA or B|\n",
    "|----------|--------------|-------|\n",
    "|False|\tFalse|\tFalse|\n",
    "|False|\tTrue|\tTrue|\n",
    "|True|\tFalse|\tTrue|\n",
    "|True|\tTrue|\tTrue|"
   ]
  },
  {
   "attachments": {},
   "cell_type": "markdown",
   "metadata": {},
   "source": [
    "### NOT Operator ###\n",
    "\n",
    "- It's a unary operator performing a logical negation.\n",
    "-  its priority is **`very high`**: the same as the unary + and -.\n",
    "\n",
    "`truth table`\n",
    "\n",
    "|Argument|\tnot Argument|\n",
    "|--------|--------------|\n",
    "|False|\tTrue|\n",
    "|True|\tFalse|"
   ]
  },
  {
   "cell_type": "code",
   "execution_count": 4,
   "metadata": {},
   "outputs": [
    {
     "name": "stdout",
     "output_type": "stream",
     "text": [
      "True\n",
      "True\n",
      "True\n",
      "True\n"
     ]
    }
   ],
   "source": [
    "var = 1\n",
    "\n",
    "print(var > 0)\n",
    "print(not (var <= 0))\n",
    "\n",
    "print(var != 0)\n",
    "print(not (var == 0))"
   ]
  },
  {
   "attachments": {},
   "cell_type": "markdown",
   "metadata": {},
   "source": [
    "- Logical operators take their arguments **as a whole regardless of how many bits they contain**.\n",
    "- The operators are aware only of the value: `zero means False`; `not zero means True`."
   ]
  },
  {
   "cell_type": "code",
   "execution_count": 9,
   "metadata": {},
   "outputs": [
    {
     "name": "stdout",
     "output_type": "stream",
     "text": [
      "True\n"
     ]
    }
   ],
   "source": [
    "i = 1 # True\n",
    "j = not not i # (not not true)\n",
    "print(j)"
   ]
  },
  {
   "cell_type": "code",
   "execution_count": 10,
   "metadata": {},
   "outputs": [
    {
     "name": "stdout",
     "output_type": "stream",
     "text": [
      "True\n"
     ]
    }
   ],
   "source": [
    "i = 0 # False\n",
    "j = not i #(not false)\n",
    "print(j)"
   ]
  },
  {
   "attachments": {},
   "cell_type": "markdown",
   "metadata": {},
   "source": [
    "### Bitwise operators ###\n",
    "\n",
    "- There are **four operators** that allow you to `manipulate single bits of data`.\n",
    "---\n",
    "- `& (ampersand)` - bitwise conjunction;\n",
    "- `| (bar)` - bitwise disjunction;\n",
    "- `~ (tilde)` - bitwise negation;\n",
    "- `^ (caret)` - bitwise exclusive or (xor)."
   ]
  },
  {
   "attachments": {},
   "cell_type": "markdown",
   "metadata": {},
   "source": [
    "|Argument A|\tArgument B|\tA & B|\t A &#124; B|\tA ^ B|\n",
    "|----------|--------------|------|--------|------|\n",
    "|0\t|0\t|0\t|0\t|0|\n",
    "|0\t|1\t|0\t|1\t|1|\n",
    "|1\t|0\t|0\t|1\t|1|\n",
    "|1\t|1\t|1\t|1\t|0|"
   ]
  },
  {
   "attachments": {},
   "cell_type": "markdown",
   "metadata": {},
   "source": [
    "Let's make it easier:\n",
    "\n",
    "- `&` requires exactly two 1s to provide 1 as the result;\n",
    "- `|` requires at least one 1 to provide 1 as the result;\n",
    "- `^` requires exactly one 1 to provide 1 as the result.\n",
    "---"
   ]
  },
  {
   "attachments": {},
   "cell_type": "markdown",
   "metadata": {},
   "source": [
    "### Logical vs. bit operations ###\n",
    "- The arguments of these operators `must be integers not float`.\n",
    "- **The logical operators do not penetrate into the bit level of its argument.** \n",
    "- `They're only interested in the final integer value`.\n",
    "- Bitwise operators are stricter. **`They deal with every bit separately`**."
   ]
  },
  {
   "cell_type": "code",
   "execution_count": 14,
   "metadata": {},
   "outputs": [],
   "source": [
    "i = 15\n",
    "j = 22\n",
    "\n",
    "# If we assume that the integers are stored with 32 bits, the bitwise image of the two variables will be as follows\n",
    "# i: 00000000000000000000000000001111\n",
    "# j: 00000000000000000000000000010110"
   ]
  },
  {
   "attachments": {},
   "cell_type": "markdown",
   "metadata": {},
   "source": [
    "- **AND** The expression `x and y` first evaluates x; if x is `false`, its value is returned; otherwise, y is evaluated and the resulting value is returned.\n",
    "\n",
    "- **OR** The expression `x or y` first evaluates x; if x is `true`, its value is returned; otherwise, y is evaluated and the resulting value is returned."
   ]
  },
  {
   "cell_type": "code",
   "execution_count": 17,
   "metadata": {},
   "outputs": [
    {
     "name": "stdout",
     "output_type": "stream",
     "text": [
      "22\n"
     ]
    }
   ],
   "source": [
    "log = i and j # i is True. For and operator if x is false return x otherwise return y.\n",
    "print(log)"
   ]
  },
  {
   "cell_type": "code",
   "execution_count": 19,
   "metadata": {},
   "outputs": [
    {
     "name": "stdout",
     "output_type": "stream",
     "text": [
      "6\n"
     ]
    }
   ],
   "source": [
    "bit = i & j\n",
    "print(bit)\n",
    "\n",
    "# i\t00000000000000000000000000001111\n",
    "# j\t00000000000000000000000000010110\n",
    "# bit = i & j\t00000000000000000000000000000110"
   ]
  },
  {
   "cell_type": "code",
   "execution_count": 21,
   "metadata": {},
   "outputs": [
    {
     "name": "stdout",
     "output_type": "stream",
     "text": [
      "False\n"
     ]
    }
   ],
   "source": [
    "logneg = not i # i is True. Not True will return False\n",
    "print(logneg)"
   ]
  },
  {
   "cell_type": "code",
   "execution_count": 22,
   "metadata": {},
   "outputs": [
    {
     "name": "stdout",
     "output_type": "stream",
     "text": [
      "-16\n"
     ]
    }
   ],
   "source": [
    "bitneg = ~i\n",
    "print(bitneg)\n",
    "\n",
    "# i ->\t00000000000000000000000000001111\n",
    "# bitneg = ~i ->\t11111111111111111111111111110000"
   ]
  },
  {
   "attachments": {},
   "cell_type": "markdown",
   "metadata": {},
   "source": [
    "### Binary left shift and binary right shift ###\n",
    "\n",
    "- This is applied only to `integer` values, and **you mustn't use floats as arguments for it**.\n",
    "- Multiplying a number is in fact a **shift of all the digits to the left**.\n",
    "- Dividing a number is nothing but **shifting the digits to the right**.\n",
    "\n",
    "---\n",
    "\n",
    "- Shifting a value one bit to the left thus corresponds to `multiplying` it by two.\n",
    "- Respectively, shifting one bit to the right is like `dividing` by two.\n",
    "\n",
    "---\n",
    "\n",
    "- The left argument of these operators is `an integer value whose bits are shifted`.\n",
    "- The right argument determines `the size of the shift`.\n",
    "- `value << bits, value >> bits`"
   ]
  },
  {
   "cell_type": "code",
   "execution_count": 32,
   "metadata": {},
   "outputs": [
    {
     "name": "stdout",
     "output_type": "stream",
     "text": [
      "17 68 8\n"
     ]
    }
   ],
   "source": [
    "var = 17\n",
    "var_left = var << 2 # 17 * (2*2)\n",
    "var_right = var >> 1 # 17 // 2\n",
    "print(var, var_left, var_right)"
   ]
  },
  {
   "attachments": {
    "image.png": {
     "image/png": "[encoded data removed]"
    }
   },
   "cell_type": "markdown",
   "metadata": {},
   "source": [
    "![image.png](attachment:image.png)"
   ]
  }
 ],
 "metadata": {
  "kernelspec": {
   "display_name": "jupyterlab",
   "language": "python",
   "name": "python3"
  },
  "language_info": {
   "codemirror_mode": {
    "name": "ipython",
    "version": 3
   },
   "file_extension": ".py",
   "mimetype": "text/x-python",
   "name": "python",
   "nbconvert_exporter": "python",
   "pygments_lexer": "ipython3",
   "version": "3.9.9"
  },
  "orig_nbformat": 4,
  "vscode": {
   "interpreter": {
    "hash": "797bcc168a88d5a18efbe272096902bc785ce456adf93c9147e596368a5f5e63"
   }
  }
 },
 "nbformat": 4,
 "nbformat_minor": 2
}
