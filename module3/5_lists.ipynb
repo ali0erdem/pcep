{
 "cells": [
  {
   "attachments": {},
   "cell_type": "markdown",
   "metadata": {},
   "source": [
    "### Why do we need lists? ###\n",
    "\n",
    "Think of how convenient it would be to declare a variable that `could store more than one value`. For example, a hundred, or a thousand or even ten thousand. And then say: give me the value number 2; assign the value number 15; increase the value number 10000.\n",
    "\n",
    "---\n",
    "\n",
    "- Let's create a variable called `numbers`.\n",
    "- The list `starts with an open square bracket and ends with a closed square bracket`\n",
    "- The space between the brackets is filled with five numbers separated by commas. \n",
    "- The elements inside a list may have `different` types.\n",
    "- Python has adopted a convention stating that the elements in a list are always `numbered starting from zero`. "
   ]
  },
  {
   "cell_type": "code",
   "execution_count": 1,
   "metadata": {},
   "outputs": [],
   "source": [
    "#This list is a collection of elements, but each element is a scalar.\n",
    "numbers = [1, 2, 3, 4, 5]"
   ]
  },
  {
   "attachments": {},
   "cell_type": "markdown",
   "metadata": {},
   "source": [
    "### Indexing lists ###\n",
    "\n",
    "- The value inside the brackets which selects one element of the list is called an `index`.\n",
    "- Operation of selecting an element from the list is known as `indexing`.\n",
    "- All the indices that we are going to use are literals. Their values are fixed at runtime, but `any expression can be the index`, too. **This opens up lots of possibilities**.\n"
   ]
  },
  {
   "cell_type": "code",
   "execution_count": 2,
   "metadata": {},
   "outputs": [
    {
     "name": "stdout",
     "output_type": "stream",
     "text": [
      "List content: [10, 5, 7, 2, 1]\n"
     ]
    }
   ],
   "source": [
    "numbers = [10, 5, 7, 2, 1]\n",
    "print(\"List content:\", numbers)  # Printing original list content."
   ]
  },
  {
   "cell_type": "code",
   "execution_count": 3,
   "metadata": {},
   "outputs": [
    {
     "name": "stdout",
     "output_type": "stream",
     "text": [
      "New list content:  [111, 5, 7, 2, 1]\n"
     ]
    }
   ],
   "source": [
    "# Let's assign a new value of 111 to the first element in the list. \n",
    "numbers[0] = 111\n",
    "print(\"New list content: \", numbers)  # Current list content."
   ]
  },
  {
   "cell_type": "code",
   "execution_count": 4,
   "metadata": {},
   "outputs": [
    {
     "name": "stdout",
     "output_type": "stream",
     "text": [
      "New list content: [111, 1, 7, 2, 1]\n"
     ]
    }
   ],
   "source": [
    "# we want the value of the fifth element to be copied to the second element\n",
    "numbers[1] = numbers[4]\n",
    "print(\"New list content:\", numbers)  # Printing current list content."
   ]
  },
  {
   "attachments": {},
   "cell_type": "markdown",
   "metadata": {},
   "source": [
    "### Accessing list content ###\n",
    "\n",
    "- Each of the list's elements may be accessed separately.\n"
   ]
  },
  {
   "cell_type": "code",
   "execution_count": 5,
   "metadata": {},
   "outputs": [
    {
     "name": "stdout",
     "output_type": "stream",
     "text": [
      "111\n"
     ]
    }
   ],
   "source": [
    "print(numbers[0]) # Accessing the list's first element."
   ]
  },
  {
   "attachments": {},
   "cell_type": "markdown",
   "metadata": {},
   "source": [
    "#### The len() function ####\n",
    "\n",
    "- If you want to check the list's current length, you can use a function named `len()`\n",
    "- The function takes the `list's name as an argument`, and returns the number of elements currently stored inside the list"
   ]
  },
  {
   "cell_type": "code",
   "execution_count": 7,
   "metadata": {},
   "outputs": [
    {
     "name": "stdout",
     "output_type": "stream",
     "text": [
      "List length: 5\n"
     ]
    }
   ],
   "source": [
    "print(\"List length:\", len(numbers))  # Printing the list's length."
   ]
  },
  {
   "attachments": {},
   "cell_type": "markdown",
   "metadata": {},
   "source": [
    "#### Removing elements from a list ####\n",
    "\n",
    "- Any of the list's elements `may be removed at any time`\n",
    "- This is done with an instruction named `del (delete)`. Note: it's an `instruction`, **not a function**.\n"
   ]
  },
  {
   "cell_type": "code",
   "execution_count": 8,
   "metadata": {},
   "outputs": [
    {
     "name": "stdout",
     "output_type": "stream",
     "text": [
      "[111, 1, 7, 2, 1]\n",
      "4\n",
      "[111, 7, 2, 1]\n"
     ]
    }
   ],
   "source": [
    "print(numbers)\n",
    "del numbers[1] # Delete the second element of the list\n",
    "print(len(numbers))\n",
    "print(numbers)"
   ]
  },
  {
   "cell_type": "code",
   "execution_count": 10,
   "metadata": {},
   "outputs": [
    {
     "ename": "IndexError",
     "evalue": "list index out of range",
     "output_type": "error",
     "traceback": [
      "\u001b[1;31m---------------------------------------------------------------------------\u001b[0m",
      "\u001b[1;31mIndexError\u001b[0m                                Traceback (most recent call last)",
      "\u001b[1;32mc:\\Users\\aerde\\Desktop\\Python Certifications\\PCEP\\module3\\5_lists.ipynb Cell 13\u001b[0m in \u001b[0;36m<cell line: 2>\u001b[1;34m()\u001b[0m\n\u001b[0;32m      <a href='vscode-notebook-cell:/c%3A/Users/aerde/Desktop/Python%20Certifications/PCEP/module3/5_lists.ipynb#X31sZmlsZQ%3D%3D?line=0'>1</a>\u001b[0m \u001b[39m# You can't access an element which doesn't exist\u001b[39;00m\n\u001b[1;32m----> <a href='vscode-notebook-cell:/c%3A/Users/aerde/Desktop/Python%20Certifications/PCEP/module3/5_lists.ipynb#X31sZmlsZQ%3D%3D?line=1'>2</a>\u001b[0m \u001b[39mprint\u001b[39m(numbers[\u001b[39m4\u001b[39;49m])\n",
      "\u001b[1;31mIndexError\u001b[0m: list index out of range"
     ]
    }
   ],
   "source": [
    "# You can't access an element which doesn't exist\n",
    "print(numbers[4])"
   ]
  },
  {
   "attachments": {},
   "cell_type": "markdown",
   "metadata": {},
   "source": [
    "#### Negative indices are legal ####\n",
    "\n",
    "- An element with an index equal to **-1** is `the last one in the list`."
   ]
  },
  {
   "cell_type": "code",
   "execution_count": 12,
   "metadata": {},
   "outputs": [
    {
     "name": "stdout",
     "output_type": "stream",
     "text": [
      "[111, 7, 2, 1]\n",
      "1\n"
     ]
    }
   ],
   "source": [
    "print(numbers)\n",
    "print(numbers[-1])"
   ]
  },
  {
   "cell_type": "code",
   "execution_count": 13,
   "metadata": {},
   "outputs": [
    {
     "name": "stdout",
     "output_type": "stream",
     "text": [
      "2\n"
     ]
    }
   ],
   "source": [
    "# -2 is the one before last in the list.\n",
    "print(numbers[-2])"
   ]
  },
  {
   "cell_type": "code",
   "execution_count": 15,
   "metadata": {},
   "outputs": [
    {
     "data": {
      "text/plain": [
       "111"
      ]
     },
     "execution_count": 15,
     "metadata": {},
     "output_type": "execute_result"
    }
   ],
   "source": [
    "# the first one \n",
    "numbers[-4]"
   ]
  },
  {
   "cell_type": "code",
   "execution_count": 16,
   "metadata": {},
   "outputs": [
    {
     "ename": "IndexError",
     "evalue": "list index out of range",
     "output_type": "error",
     "traceback": [
      "\u001b[1;31m---------------------------------------------------------------------------\u001b[0m",
      "\u001b[1;31mIndexError\u001b[0m                                Traceback (most recent call last)",
      "\u001b[1;32mc:\\Users\\aerde\\Desktop\\Python Certifications\\PCEP\\module3\\5_lists.ipynb Cell 18\u001b[0m in \u001b[0;36m<cell line: 1>\u001b[1;34m()\u001b[0m\n\u001b[1;32m----> <a href='vscode-notebook-cell:/c%3A/Users/aerde/Desktop/Python%20Certifications/PCEP/module3/5_lists.ipynb#X41sZmlsZQ%3D%3D?line=0'>1</a>\u001b[0m numbers[\u001b[39m-\u001b[39;49m\u001b[39m5\u001b[39;49m]\n",
      "\u001b[1;31mIndexError\u001b[0m: list index out of range"
     ]
    }
   ],
   "source": [
    "numbers[-5]"
   ]
  },
  {
   "cell_type": "code",
   "execution_count": 17,
   "metadata": {},
   "outputs": [
    {
     "name": "stdout",
     "output_type": "stream",
     "text": [
      "Length of the list: 4\n",
      "[1, 2, 99, 4]\n"
     ]
    }
   ],
   "source": [
    "# 3.4.1.6 LAB\n",
    "hat_list = [1, 2, 3, 4, 5]  # This is an existing list of numbers hidden in the hat.\n",
    "\n",
    "# Step 1: write a line of code that prompts the user\n",
    "# to replace the middle number with an integer number entered by the user.\n",
    "user_num = int(input(\"Please enter a new middle number: \"))\n",
    "hat_list[len(hat_list) // 2] = user_num\n",
    "\n",
    "# Step 2: write a line of code that removes the last element from the list.\n",
    "del hat_list[-1]\n",
    "\n",
    "# Step 3: write a line of code that prints the length of the existing list.\n",
    "print(\"Length of the list:\", len(hat_list))\n",
    "print(hat_list)"
   ]
  },
  {
   "attachments": {},
   "cell_type": "markdown",
   "metadata": {},
   "source": [
    "### Functions vs. methods ###\n",
    "\n",
    "- A `method` is a specific kind of function.\n",
    "- It looks like a function, but **differs** in the way in which `it acts`, and in `its invocation style`.\n",
    "---\n",
    "- A function doesn't belong to any data. It gets data.\n",
    "- It may create new data and it (generally) `produces a result`.\n",
    "- A method does all these things, but is also able to `change the state of a selected entity`.\n",
    "---\n",
    "- A method is `owned by the data` it works for.\n",
    "- A function is owned by the `whole code`.\n",
    "---\n",
    "- function **invocation** looks like this: `result = function(arg)`\n",
    "- method **invocation** usually looks like this: `result = data.method(arg)`\n",
    "- the name of the method is `preceded by the name of the data which owns the method`. \n",
    "- Next, you add a `dot`, followed by the `method name`, and `a pair of parenthesis enclosing the arguments.`"
   ]
  },
  {
   "attachments": {},
   "cell_type": "markdown",
   "metadata": {},
   "source": [
    "#### Adding elements to a list ####\n",
    "\n",
    "#### append(value) ####\n",
    "- A new element may be glued to the end of the existing list.\n",
    "- Append method puts the argument's value `at the end of the list`.\n",
    "- The list's length then increases by one.\n",
    "\n",
    "#### insert(location, value) ####\n",
    "- it can add a new element at `any place in the list`, not only at the end.\n",
    "- the first shows the required location of the element to be inserted.\n",
    "- the second is the element to be inserted.\n",
    "- elements are `shifted to the right`, in order to make space for the new element.\n"
   ]
  },
  {
   "cell_type": "code",
   "execution_count": 19,
   "metadata": {},
   "outputs": [
    {
     "name": "stdout",
     "output_type": "stream",
     "text": [
      "4\n",
      "[111, 7, 2, 1]\n",
      "5\n",
      "[111, 7, 2, 1, 4]\n",
      "6\n",
      "[222, 111, 7, 2, 1, 4]\n",
      "7\n",
      "[222, 333, 111, 7, 2, 1, 4]\n"
     ]
    }
   ],
   "source": [
    "numbers = [111, 7, 2, 1]\n",
    "print(len(numbers))\n",
    "print(numbers)\n",
    "\n",
    "###\n",
    "\n",
    "numbers.append(4)\n",
    "\n",
    "print(len(numbers))\n",
    "print(numbers)\n",
    "\n",
    "###\n",
    "\n",
    "numbers.insert(0, 222)\n",
    "print(len(numbers))\n",
    "print(numbers)\n",
    "\n",
    "# The snippet above snippet inserts 333 into the list\n",
    "# making it the second element. \n",
    "# The former second element becomes the third, the third the fourth, and so on.\n",
    "numbers.insert(1, 333)\n",
    "print(len(numbers))\n",
    "print(numbers)\n"
   ]
  },
  {
   "cell_type": "code",
   "execution_count": 20,
   "metadata": {},
   "outputs": [
    {
     "name": "stdout",
     "output_type": "stream",
     "text": [
      "[1, 2, 3, 4, 5]\n"
     ]
    }
   ],
   "source": [
    "my_list = []  # Creating an empty list.\n",
    "\n",
    "for i in range(5):\n",
    "    my_list.append(i + 1)\n",
    "\n",
    "print(my_list)"
   ]
  },
  {
   "cell_type": "code",
   "execution_count": 23,
   "metadata": {},
   "outputs": [
    {
     "name": "stdout",
     "output_type": "stream",
     "text": [
      "[5, 4, 3, 2, 1]\n"
     ]
    }
   ],
   "source": [
    "my_list = []  # Creating an empty list.\n",
    "\n",
    "for i in range(5):\n",
    "    my_list.insert(0, i + 1)\n",
    "\n",
    "print(my_list)\n"
   ]
  },
  {
   "cell_type": "code",
   "execution_count": 5,
   "metadata": {},
   "outputs": [
    {
     "name": "stdout",
     "output_type": "stream",
     "text": [
      "27\n"
     ]
    }
   ],
   "source": [
    "# calculate the sum of all the values stored in the my_list\n",
    "my_list = [10, 1, 8, 3, 5]\n",
    "total = 0\n",
    "\n",
    "for i in range(len(my_list)):\n",
    "    total += my_list[i]\n",
    "\n",
    "print(total)"
   ]
  },
  {
   "cell_type": "code",
   "execution_count": 25,
   "metadata": {},
   "outputs": [
    {
     "name": "stdout",
     "output_type": "stream",
     "text": [
      "27\n"
     ]
    }
   ],
   "source": [
    "# Better way to sum of all the values in a list\n",
    "# It can hide all the actions connected to the list's indexing, and deliver all the list's elements in a handy way.\n",
    "my_list = [10, 1, 8, 3, 5]\n",
    "total = 0\n",
    "\n",
    "for i in my_list:\n",
    "    total += i\n",
    "\n",
    "print(total)"
   ]
  },
  {
   "cell_type": "code",
   "execution_count": 27,
   "metadata": {},
   "outputs": [
    {
     "name": "stdout",
     "output_type": "stream",
     "text": [
      "[5, 3, 8, 1, 10]\n"
     ]
    }
   ],
   "source": [
    "# swap the list's elements to reverse their order\n",
    "my_list = [10, 1, 8, 3, 5]\n",
    "\n",
    "my_list[0], my_list[4] = my_list[4], my_list[0]\n",
    "my_list[1], my_list[3] = my_list[3], my_list[1]\n",
    "\n",
    "print(my_list)"
   ]
  },
  {
   "cell_type": "code",
   "execution_count": 28,
   "metadata": {},
   "outputs": [
    {
     "name": "stdout",
     "output_type": "stream",
     "text": [
      "[5, 3, 8, 1, 10]\n"
     ]
    }
   ],
   "source": [
    "# what if we have 100 elements in a list. We can use for loop.\n",
    "my_list = [10, 1, 8, 3, 5]\n",
    "length = len(my_list)\n",
    "\n",
    "for i in range(length // 2):\n",
    "    my_list[i], my_list[length - i - 1] = my_list[length - i - 1], my_list[i]\n",
    "\n",
    "print(my_list)"
   ]
  },
  {
   "cell_type": "code",
   "execution_count": 29,
   "metadata": {},
   "outputs": [
    {
     "name": "stdout",
     "output_type": "stream",
     "text": [
      "Step 1: []\n",
      "Step 2: ['John Lennon', 'Paul McCartney', 'George Harrison']\n",
      "Step 3: ['John Lennon', 'Paul McCartney', 'George Harrison', 'Stu Sutcliffe', 'Pete Best']\n",
      "Step 4: ['John Lennon', 'Paul McCartney', 'George Harrison']\n",
      "Step 5: ['Ringo Starr', 'John Lennon', 'Paul McCartney', 'George Harrison']\n",
      "The Fab 4\n"
     ]
    }
   ],
   "source": [
    "# step 1\n",
    "beatles = []\n",
    "print(\"Step 1:\", beatles)\n",
    "\n",
    "# step 2\n",
    "beatles.append(\"John Lennon\")\n",
    "beatles.append(\"Paul McCartney\")\n",
    "beatles.append(\"George Harrison\")\n",
    "print(\"Step 2:\", beatles)\n",
    "\n",
    "# step 3\n",
    "for i in range(2): #Stu Sutcliffe and Pete Best\n",
    "    new_member = input(\"Please enter the new member of the group: \")\n",
    "    beatles.append(new_member)\n",
    "print(\"Step 3:\", beatles)\n",
    "\n",
    "# step 4\n",
    "del beatles[-1]\n",
    "del beatles[-1]\n",
    "print(\"Step 4:\", beatles)\n",
    "\n",
    "# step 5\n",
    "beatles.insert(0, \"Ringo Starr\")\n",
    "print(\"Step 5:\", beatles)\n",
    "\n",
    "\n",
    "# testing list legth\n",
    "print(\"The Fab\", len(beatles))\n"
   ]
  }
 ],
 "metadata": {
  "kernelspec": {
   "display_name": "jupyterlab",
   "language": "python",
   "name": "python3"
  },
  "language_info": {
   "codemirror_mode": {
    "name": "ipython",
    "version": 3
   },
   "file_extension": ".py",
   "mimetype": "text/x-python",
   "name": "python",
   "nbconvert_exporter": "python",
   "pygments_lexer": "ipython3",
   "version": "3.9.9"
  },
  "orig_nbformat": 4,
  "vscode": {
   "interpreter": {
    "hash": "797bcc168a88d5a18efbe272096902bc785ce456adf93c9147e596368a5f5e63"
   }
  }
 },
 "nbformat": 4,
 "nbformat_minor": 2
}
